{
  "nbformat": 4,
  "nbformat_minor": 0,
  "metadata": {
    "colab": {
      "provenance": []
    },
    "kernelspec": {
      "name": "python3",
      "display_name": "Python 3"
    },
    "language_info": {
      "name": "python"
    },
    "widgets": {
      "application/vnd.jupyter.widget-state+json": {
        "923a2cf247c34dce86f7baf0c5e146a2": {
          "model_module": "@jupyter-widgets/controls",
          "model_name": "HBoxModel",
          "model_module_version": "1.5.0",
          "state": {
            "_dom_classes": [],
            "_model_module": "@jupyter-widgets/controls",
            "_model_module_version": "1.5.0",
            "_model_name": "HBoxModel",
            "_view_count": null,
            "_view_module": "@jupyter-widgets/controls",
            "_view_module_version": "1.5.0",
            "_view_name": "HBoxView",
            "box_style": "",
            "children": [
              "IPY_MODEL_19fa56d907074bcf80b95ba8c85f77ff",
              "IPY_MODEL_0b11135bd66a4b68b54b771790bb9234",
              "IPY_MODEL_c3cccd03d6e6416aa6ce05f036ceba46"
            ],
            "layout": "IPY_MODEL_2423c1f3211344d1a9c6d2fb86a5132e"
          }
        },
        "19fa56d907074bcf80b95ba8c85f77ff": {
          "model_module": "@jupyter-widgets/controls",
          "model_name": "HTMLModel",
          "model_module_version": "1.5.0",
          "state": {
            "_dom_classes": [],
            "_model_module": "@jupyter-widgets/controls",
            "_model_module_version": "1.5.0",
            "_model_name": "HTMLModel",
            "_view_count": null,
            "_view_module": "@jupyter-widgets/controls",
            "_view_module_version": "1.5.0",
            "_view_name": "HTMLView",
            "description": "",
            "description_tooltip": null,
            "layout": "IPY_MODEL_3a8b61a565594d36a2486b7d4ea4a3a1",
            "placeholder": "​",
            "style": "IPY_MODEL_12852cf9a443414fb17c7efd91e09e0a",
            "value": "100%"
          }
        },
        "0b11135bd66a4b68b54b771790bb9234": {
          "model_module": "@jupyter-widgets/controls",
          "model_name": "FloatProgressModel",
          "model_module_version": "1.5.0",
          "state": {
            "_dom_classes": [],
            "_model_module": "@jupyter-widgets/controls",
            "_model_module_version": "1.5.0",
            "_model_name": "FloatProgressModel",
            "_view_count": null,
            "_view_module": "@jupyter-widgets/controls",
            "_view_module_version": "1.5.0",
            "_view_name": "ProgressView",
            "bar_style": "success",
            "description": "",
            "description_tooltip": null,
            "layout": "IPY_MODEL_17a4b499b6d54b54ab695c22cb5c6fba",
            "max": 2000,
            "min": 0,
            "orientation": "horizontal",
            "style": "IPY_MODEL_05c0338c43854e9eb7bcc84e2d30083c",
            "value": 2000
          }
        },
        "c3cccd03d6e6416aa6ce05f036ceba46": {
          "model_module": "@jupyter-widgets/controls",
          "model_name": "HTMLModel",
          "model_module_version": "1.5.0",
          "state": {
            "_dom_classes": [],
            "_model_module": "@jupyter-widgets/controls",
            "_model_module_version": "1.5.0",
            "_model_name": "HTMLModel",
            "_view_count": null,
            "_view_module": "@jupyter-widgets/controls",
            "_view_module_version": "1.5.0",
            "_view_name": "HTMLView",
            "description": "",
            "description_tooltip": null,
            "layout": "IPY_MODEL_09672f798fae41afb1e6f084152f0b81",
            "placeholder": "​",
            "style": "IPY_MODEL_53fa9cbd87b6422da41871e51ee79338",
            "value": " 2000/2000 [00:55&lt;00:00, 121.15it/s]"
          }
        },
        "2423c1f3211344d1a9c6d2fb86a5132e": {
          "model_module": "@jupyter-widgets/base",
          "model_name": "LayoutModel",
          "model_module_version": "1.2.0",
          "state": {
            "_model_module": "@jupyter-widgets/base",
            "_model_module_version": "1.2.0",
            "_model_name": "LayoutModel",
            "_view_count": null,
            "_view_module": "@jupyter-widgets/base",
            "_view_module_version": "1.2.0",
            "_view_name": "LayoutView",
            "align_content": null,
            "align_items": null,
            "align_self": null,
            "border": null,
            "bottom": null,
            "display": null,
            "flex": null,
            "flex_flow": null,
            "grid_area": null,
            "grid_auto_columns": null,
            "grid_auto_flow": null,
            "grid_auto_rows": null,
            "grid_column": null,
            "grid_gap": null,
            "grid_row": null,
            "grid_template_areas": null,
            "grid_template_columns": null,
            "grid_template_rows": null,
            "height": null,
            "justify_content": null,
            "justify_items": null,
            "left": null,
            "margin": null,
            "max_height": null,
            "max_width": null,
            "min_height": null,
            "min_width": null,
            "object_fit": null,
            "object_position": null,
            "order": null,
            "overflow": null,
            "overflow_x": null,
            "overflow_y": null,
            "padding": null,
            "right": null,
            "top": null,
            "visibility": null,
            "width": null
          }
        },
        "3a8b61a565594d36a2486b7d4ea4a3a1": {
          "model_module": "@jupyter-widgets/base",
          "model_name": "LayoutModel",
          "model_module_version": "1.2.0",
          "state": {
            "_model_module": "@jupyter-widgets/base",
            "_model_module_version": "1.2.0",
            "_model_name": "LayoutModel",
            "_view_count": null,
            "_view_module": "@jupyter-widgets/base",
            "_view_module_version": "1.2.0",
            "_view_name": "LayoutView",
            "align_content": null,
            "align_items": null,
            "align_self": null,
            "border": null,
            "bottom": null,
            "display": null,
            "flex": null,
            "flex_flow": null,
            "grid_area": null,
            "grid_auto_columns": null,
            "grid_auto_flow": null,
            "grid_auto_rows": null,
            "grid_column": null,
            "grid_gap": null,
            "grid_row": null,
            "grid_template_areas": null,
            "grid_template_columns": null,
            "grid_template_rows": null,
            "height": null,
            "justify_content": null,
            "justify_items": null,
            "left": null,
            "margin": null,
            "max_height": null,
            "max_width": null,
            "min_height": null,
            "min_width": null,
            "object_fit": null,
            "object_position": null,
            "order": null,
            "overflow": null,
            "overflow_x": null,
            "overflow_y": null,
            "padding": null,
            "right": null,
            "top": null,
            "visibility": null,
            "width": null
          }
        },
        "12852cf9a443414fb17c7efd91e09e0a": {
          "model_module": "@jupyter-widgets/controls",
          "model_name": "DescriptionStyleModel",
          "model_module_version": "1.5.0",
          "state": {
            "_model_module": "@jupyter-widgets/controls",
            "_model_module_version": "1.5.0",
            "_model_name": "DescriptionStyleModel",
            "_view_count": null,
            "_view_module": "@jupyter-widgets/base",
            "_view_module_version": "1.2.0",
            "_view_name": "StyleView",
            "description_width": ""
          }
        },
        "17a4b499b6d54b54ab695c22cb5c6fba": {
          "model_module": "@jupyter-widgets/base",
          "model_name": "LayoutModel",
          "model_module_version": "1.2.0",
          "state": {
            "_model_module": "@jupyter-widgets/base",
            "_model_module_version": "1.2.0",
            "_model_name": "LayoutModel",
            "_view_count": null,
            "_view_module": "@jupyter-widgets/base",
            "_view_module_version": "1.2.0",
            "_view_name": "LayoutView",
            "align_content": null,
            "align_items": null,
            "align_self": null,
            "border": null,
            "bottom": null,
            "display": null,
            "flex": null,
            "flex_flow": null,
            "grid_area": null,
            "grid_auto_columns": null,
            "grid_auto_flow": null,
            "grid_auto_rows": null,
            "grid_column": null,
            "grid_gap": null,
            "grid_row": null,
            "grid_template_areas": null,
            "grid_template_columns": null,
            "grid_template_rows": null,
            "height": null,
            "justify_content": null,
            "justify_items": null,
            "left": null,
            "margin": null,
            "max_height": null,
            "max_width": null,
            "min_height": null,
            "min_width": null,
            "object_fit": null,
            "object_position": null,
            "order": null,
            "overflow": null,
            "overflow_x": null,
            "overflow_y": null,
            "padding": null,
            "right": null,
            "top": null,
            "visibility": null,
            "width": null
          }
        },
        "05c0338c43854e9eb7bcc84e2d30083c": {
          "model_module": "@jupyter-widgets/controls",
          "model_name": "ProgressStyleModel",
          "model_module_version": "1.5.0",
          "state": {
            "_model_module": "@jupyter-widgets/controls",
            "_model_module_version": "1.5.0",
            "_model_name": "ProgressStyleModel",
            "_view_count": null,
            "_view_module": "@jupyter-widgets/base",
            "_view_module_version": "1.2.0",
            "_view_name": "StyleView",
            "bar_color": null,
            "description_width": ""
          }
        },
        "09672f798fae41afb1e6f084152f0b81": {
          "model_module": "@jupyter-widgets/base",
          "model_name": "LayoutModel",
          "model_module_version": "1.2.0",
          "state": {
            "_model_module": "@jupyter-widgets/base",
            "_model_module_version": "1.2.0",
            "_model_name": "LayoutModel",
            "_view_count": null,
            "_view_module": "@jupyter-widgets/base",
            "_view_module_version": "1.2.0",
            "_view_name": "LayoutView",
            "align_content": null,
            "align_items": null,
            "align_self": null,
            "border": null,
            "bottom": null,
            "display": null,
            "flex": null,
            "flex_flow": null,
            "grid_area": null,
            "grid_auto_columns": null,
            "grid_auto_flow": null,
            "grid_auto_rows": null,
            "grid_column": null,
            "grid_gap": null,
            "grid_row": null,
            "grid_template_areas": null,
            "grid_template_columns": null,
            "grid_template_rows": null,
            "height": null,
            "justify_content": null,
            "justify_items": null,
            "left": null,
            "margin": null,
            "max_height": null,
            "max_width": null,
            "min_height": null,
            "min_width": null,
            "object_fit": null,
            "object_position": null,
            "order": null,
            "overflow": null,
            "overflow_x": null,
            "overflow_y": null,
            "padding": null,
            "right": null,
            "top": null,
            "visibility": null,
            "width": null
          }
        },
        "53fa9cbd87b6422da41871e51ee79338": {
          "model_module": "@jupyter-widgets/controls",
          "model_name": "DescriptionStyleModel",
          "model_module_version": "1.5.0",
          "state": {
            "_model_module": "@jupyter-widgets/controls",
            "_model_module_version": "1.5.0",
            "_model_name": "DescriptionStyleModel",
            "_view_count": null,
            "_view_module": "@jupyter-widgets/base",
            "_view_module_version": "1.2.0",
            "_view_name": "StyleView",
            "description_width": ""
          }
        },
        "0605b9c384ee4f788c711c38ab39bc3a": {
          "model_module": "@jupyter-widgets/controls",
          "model_name": "HBoxModel",
          "model_module_version": "1.5.0",
          "state": {
            "_dom_classes": [],
            "_model_module": "@jupyter-widgets/controls",
            "_model_module_version": "1.5.0",
            "_model_name": "HBoxModel",
            "_view_count": null,
            "_view_module": "@jupyter-widgets/controls",
            "_view_module_version": "1.5.0",
            "_view_name": "HBoxView",
            "box_style": "",
            "children": [
              "IPY_MODEL_f3d0812b5fc8400b8d72a747c1e86060",
              "IPY_MODEL_dbf9278a8a3d4746af97802efbcc470c",
              "IPY_MODEL_cfbd28763d354c2e92a2d75bf405ef08"
            ],
            "layout": "IPY_MODEL_61a74888e44f4eae9594fd73b7a03596"
          }
        },
        "f3d0812b5fc8400b8d72a747c1e86060": {
          "model_module": "@jupyter-widgets/controls",
          "model_name": "HTMLModel",
          "model_module_version": "1.5.0",
          "state": {
            "_dom_classes": [],
            "_model_module": "@jupyter-widgets/controls",
            "_model_module_version": "1.5.0",
            "_model_name": "HTMLModel",
            "_view_count": null,
            "_view_module": "@jupyter-widgets/controls",
            "_view_module_version": "1.5.0",
            "_view_name": "HTMLView",
            "description": "",
            "description_tooltip": null,
            "layout": "IPY_MODEL_2af7ff52f61942a985d73211c9df2d92",
            "placeholder": "​",
            "style": "IPY_MODEL_d82227fdabe44739965929b5361dcefe",
            "value": "100%"
          }
        },
        "dbf9278a8a3d4746af97802efbcc470c": {
          "model_module": "@jupyter-widgets/controls",
          "model_name": "FloatProgressModel",
          "model_module_version": "1.5.0",
          "state": {
            "_dom_classes": [],
            "_model_module": "@jupyter-widgets/controls",
            "_model_module_version": "1.5.0",
            "_model_name": "FloatProgressModel",
            "_view_count": null,
            "_view_module": "@jupyter-widgets/controls",
            "_view_module_version": "1.5.0",
            "_view_name": "ProgressView",
            "bar_style": "success",
            "description": "",
            "description_tooltip": null,
            "layout": "IPY_MODEL_104c919b5e534061b068ffbabd97dc78",
            "max": 2000,
            "min": 0,
            "orientation": "horizontal",
            "style": "IPY_MODEL_263631e9576b47c5ab3e27a1a067c74f",
            "value": 2000
          }
        },
        "cfbd28763d354c2e92a2d75bf405ef08": {
          "model_module": "@jupyter-widgets/controls",
          "model_name": "HTMLModel",
          "model_module_version": "1.5.0",
          "state": {
            "_dom_classes": [],
            "_model_module": "@jupyter-widgets/controls",
            "_model_module_version": "1.5.0",
            "_model_name": "HTMLModel",
            "_view_count": null,
            "_view_module": "@jupyter-widgets/controls",
            "_view_module_version": "1.5.0",
            "_view_name": "HTMLView",
            "description": "",
            "description_tooltip": null,
            "layout": "IPY_MODEL_b37fb61d2270458082be91c8ff035652",
            "placeholder": "​",
            "style": "IPY_MODEL_bf3bf3804827406c9ddcda4d3db19705",
            "value": " 2000/2000 [01:32&lt;00:00, 134.32it/s]"
          }
        },
        "61a74888e44f4eae9594fd73b7a03596": {
          "model_module": "@jupyter-widgets/base",
          "model_name": "LayoutModel",
          "model_module_version": "1.2.0",
          "state": {
            "_model_module": "@jupyter-widgets/base",
            "_model_module_version": "1.2.0",
            "_model_name": "LayoutModel",
            "_view_count": null,
            "_view_module": "@jupyter-widgets/base",
            "_view_module_version": "1.2.0",
            "_view_name": "LayoutView",
            "align_content": null,
            "align_items": null,
            "align_self": null,
            "border": null,
            "bottom": null,
            "display": null,
            "flex": null,
            "flex_flow": null,
            "grid_area": null,
            "grid_auto_columns": null,
            "grid_auto_flow": null,
            "grid_auto_rows": null,
            "grid_column": null,
            "grid_gap": null,
            "grid_row": null,
            "grid_template_areas": null,
            "grid_template_columns": null,
            "grid_template_rows": null,
            "height": null,
            "justify_content": null,
            "justify_items": null,
            "left": null,
            "margin": null,
            "max_height": null,
            "max_width": null,
            "min_height": null,
            "min_width": null,
            "object_fit": null,
            "object_position": null,
            "order": null,
            "overflow": null,
            "overflow_x": null,
            "overflow_y": null,
            "padding": null,
            "right": null,
            "top": null,
            "visibility": null,
            "width": null
          }
        },
        "2af7ff52f61942a985d73211c9df2d92": {
          "model_module": "@jupyter-widgets/base",
          "model_name": "LayoutModel",
          "model_module_version": "1.2.0",
          "state": {
            "_model_module": "@jupyter-widgets/base",
            "_model_module_version": "1.2.0",
            "_model_name": "LayoutModel",
            "_view_count": null,
            "_view_module": "@jupyter-widgets/base",
            "_view_module_version": "1.2.0",
            "_view_name": "LayoutView",
            "align_content": null,
            "align_items": null,
            "align_self": null,
            "border": null,
            "bottom": null,
            "display": null,
            "flex": null,
            "flex_flow": null,
            "grid_area": null,
            "grid_auto_columns": null,
            "grid_auto_flow": null,
            "grid_auto_rows": null,
            "grid_column": null,
            "grid_gap": null,
            "grid_row": null,
            "grid_template_areas": null,
            "grid_template_columns": null,
            "grid_template_rows": null,
            "height": null,
            "justify_content": null,
            "justify_items": null,
            "left": null,
            "margin": null,
            "max_height": null,
            "max_width": null,
            "min_height": null,
            "min_width": null,
            "object_fit": null,
            "object_position": null,
            "order": null,
            "overflow": null,
            "overflow_x": null,
            "overflow_y": null,
            "padding": null,
            "right": null,
            "top": null,
            "visibility": null,
            "width": null
          }
        },
        "d82227fdabe44739965929b5361dcefe": {
          "model_module": "@jupyter-widgets/controls",
          "model_name": "DescriptionStyleModel",
          "model_module_version": "1.5.0",
          "state": {
            "_model_module": "@jupyter-widgets/controls",
            "_model_module_version": "1.5.0",
            "_model_name": "DescriptionStyleModel",
            "_view_count": null,
            "_view_module": "@jupyter-widgets/base",
            "_view_module_version": "1.2.0",
            "_view_name": "StyleView",
            "description_width": ""
          }
        },
        "104c919b5e534061b068ffbabd97dc78": {
          "model_module": "@jupyter-widgets/base",
          "model_name": "LayoutModel",
          "model_module_version": "1.2.0",
          "state": {
            "_model_module": "@jupyter-widgets/base",
            "_model_module_version": "1.2.0",
            "_model_name": "LayoutModel",
            "_view_count": null,
            "_view_module": "@jupyter-widgets/base",
            "_view_module_version": "1.2.0",
            "_view_name": "LayoutView",
            "align_content": null,
            "align_items": null,
            "align_self": null,
            "border": null,
            "bottom": null,
            "display": null,
            "flex": null,
            "flex_flow": null,
            "grid_area": null,
            "grid_auto_columns": null,
            "grid_auto_flow": null,
            "grid_auto_rows": null,
            "grid_column": null,
            "grid_gap": null,
            "grid_row": null,
            "grid_template_areas": null,
            "grid_template_columns": null,
            "grid_template_rows": null,
            "height": null,
            "justify_content": null,
            "justify_items": null,
            "left": null,
            "margin": null,
            "max_height": null,
            "max_width": null,
            "min_height": null,
            "min_width": null,
            "object_fit": null,
            "object_position": null,
            "order": null,
            "overflow": null,
            "overflow_x": null,
            "overflow_y": null,
            "padding": null,
            "right": null,
            "top": null,
            "visibility": null,
            "width": null
          }
        },
        "263631e9576b47c5ab3e27a1a067c74f": {
          "model_module": "@jupyter-widgets/controls",
          "model_name": "ProgressStyleModel",
          "model_module_version": "1.5.0",
          "state": {
            "_model_module": "@jupyter-widgets/controls",
            "_model_module_version": "1.5.0",
            "_model_name": "ProgressStyleModel",
            "_view_count": null,
            "_view_module": "@jupyter-widgets/base",
            "_view_module_version": "1.2.0",
            "_view_name": "StyleView",
            "bar_color": null,
            "description_width": ""
          }
        },
        "b37fb61d2270458082be91c8ff035652": {
          "model_module": "@jupyter-widgets/base",
          "model_name": "LayoutModel",
          "model_module_version": "1.2.0",
          "state": {
            "_model_module": "@jupyter-widgets/base",
            "_model_module_version": "1.2.0",
            "_model_name": "LayoutModel",
            "_view_count": null,
            "_view_module": "@jupyter-widgets/base",
            "_view_module_version": "1.2.0",
            "_view_name": "LayoutView",
            "align_content": null,
            "align_items": null,
            "align_self": null,
            "border": null,
            "bottom": null,
            "display": null,
            "flex": null,
            "flex_flow": null,
            "grid_area": null,
            "grid_auto_columns": null,
            "grid_auto_flow": null,
            "grid_auto_rows": null,
            "grid_column": null,
            "grid_gap": null,
            "grid_row": null,
            "grid_template_areas": null,
            "grid_template_columns": null,
            "grid_template_rows": null,
            "height": null,
            "justify_content": null,
            "justify_items": null,
            "left": null,
            "margin": null,
            "max_height": null,
            "max_width": null,
            "min_height": null,
            "min_width": null,
            "object_fit": null,
            "object_position": null,
            "order": null,
            "overflow": null,
            "overflow_x": null,
            "overflow_y": null,
            "padding": null,
            "right": null,
            "top": null,
            "visibility": null,
            "width": null
          }
        },
        "bf3bf3804827406c9ddcda4d3db19705": {
          "model_module": "@jupyter-widgets/controls",
          "model_name": "DescriptionStyleModel",
          "model_module_version": "1.5.0",
          "state": {
            "_model_module": "@jupyter-widgets/controls",
            "_model_module_version": "1.5.0",
            "_model_name": "DescriptionStyleModel",
            "_view_count": null,
            "_view_module": "@jupyter-widgets/base",
            "_view_module_version": "1.2.0",
            "_view_name": "StyleView",
            "description_width": ""
          }
        }
      }
    }
  },
  "cells": [
    {
      "cell_type": "code",
      "execution_count": 1,
      "metadata": {
        "id": "L5Fm-W3DIe5e"
      },
      "outputs": [],
      "source": [
        "import numpy as np\n",
        "import matplotlib.pyplot as plt\n",
        "\n",
        "import os\n",
        "import cv2\n",
        "\n",
        "from PIL import Image\n",
        "# Pillow library\n",
        "from tensorflow import keras\n",
        "import tensorflow.keras.layers as k\n",
        "\n",
        "from tqdm.notebook import tqdm"
      ]
    },
    {
      "cell_type": "markdown",
      "source": [
        "####Importing Data"
      ],
      "metadata": {
        "id": "-6dnu1weJpFm"
      }
    },
    {
      "cell_type": "code",
      "source": [
        "from keras.preprocessing.image import ImageDataGenerator,load_img\n",
        "/content/drive/MyDrive/Malaria/cell_images/Uninfected\n",
        "load_img('/content/drive/MyDrive/Malaria/cell_images/Parasitized/C100P61ThinF_IMG_20150918_144104_cell_166.png',target_size=(64,64))"
      ],
      "metadata": {
        "colab": {
          "base_uri": "https://localhost:8080/",
          "height": 81
        },
        "id": "wQcxHm0IJl3s",
        "outputId": "d04e9751-ceb2-4864-8e13-ca8fd80ca3c2"
      },
      "execution_count": 7,
      "outputs": [
        {
          "output_type": "execute_result",
          "data": {
            "text/plain": [
              "<PIL.Image.Image image mode=RGB size=64x64>"
            ],
            "image/png": "[encoded data removed]"
          },
          "metadata": {},
          "execution_count": 7
        }
      ]
    },
    {
      "cell_type": "code",
      "source": [
        "os.environ['KERAS_BACKEND']='tensorflow'"
      ],
      "metadata": {
        "id": "Q93v3I53J7es"
      },
      "execution_count": 8,
      "outputs": []
    },
    {
      "cell_type": "code",
      "source": [
        "np.random.seed(312)"
      ],
      "metadata": {
        "id": "UV-atQ9zWLPX"
      },
      "execution_count": 9,
      "outputs": []
    },
    {
      "cell_type": "code",
      "source": [
        "image_dir = \"/content/drive/MyDrive/Malaria/cell_images/\"\n",
        "size = 64\n",
        "dataset = []\n",
        "label = []"
      ],
      "metadata": {
        "id": "V1bRp4EcYAbk"
      },
      "execution_count": 16,
      "outputs": []
    },
    {
      "cell_type": "code",
      "source": [
        "parasitized_img = os.listdir(image_dir+\"Parasitized/\")\n",
        "parasitized_img = parasitized_img[:2000]\n",
        "for img_name in tqdm(parasitized_img):\n",
        "  if (img_name.split('.')[1] == 'png'):\n",
        "    image = cv2.imread(image_dir+\"Parasitized/\"+img_name)\n",
        "    image = Image.fromarray(image,'RGB')\n",
        "    image = image.resize((size,size))\n",
        "\n",
        "    dataset.append(np.array(image))\n",
        "    label.append(0)\n"
      ],
      "metadata": {
        "colab": {
          "base_uri": "https://localhost:8080/",
          "height": 49,
          "referenced_widgets": [
            "923a2cf247c34dce86f7baf0c5e146a2",
            "19fa56d907074bcf80b95ba8c85f77ff",
            "0b11135bd66a4b68b54b771790bb9234",
            "c3cccd03d6e6416aa6ce05f036ceba46",
            "2423c1f3211344d1a9c6d2fb86a5132e",
            "3a8b61a565594d36a2486b7d4ea4a3a1",
            "12852cf9a443414fb17c7efd91e09e0a",
            "17a4b499b6d54b54ab695c22cb5c6fba",
            "05c0338c43854e9eb7bcc84e2d30083c",
            "09672f798fae41afb1e6f084152f0b81",
            "53fa9cbd87b6422da41871e51ee79338"
          ]
        },
        "id": "-jBLIjVLYO3P",
        "outputId": "df823f57-78de-4b25-f2ed-6b01202e6272"
      },
      "execution_count": 34,
      "outputs": [
        {
          "output_type": "display_data",
          "data": {
            "text/plain": [
              "  0%|          | 0/2000 [00:00<?, ?it/s]"
            ],
            "application/vnd.jupyter.widget-view+json": {
              "version_major": 2,
              "version_minor": 0,
              "model_id": "923a2cf247c34dce86f7baf0c5e146a2"
            }
          },
          "metadata": {}
        }
      ]
    },
    {
      "cell_type": "code",
      "source": [
        "len(parasitized_img)"
      ],
      "metadata": {
        "colab": {
          "base_uri": "https://localhost:8080/"
        },
        "id": "DLI1734GYhBW",
        "outputId": "e9795b6e-3b32-48df-d8df-c305219932b1"
      },
      "execution_count": 35,
      "outputs": [
        {
          "output_type": "execute_result",
          "data": {
            "text/plain": [
              "2000"
            ]
          },
          "metadata": {},
          "execution_count": 35
        }
      ]
    },
    {
      "cell_type": "code",
      "source": [
        "(uninfected_img )=os.listdir(image_dir+\"Uninfected\")\n",
        "uninfected_img = uninfected_img[:2000]\n",
        "for img_name in tqdm(uninfected_img):\n",
        "  if (img_name.split('.')[1] == 'png'):\n",
        "    image = cv2.imread(image_dir+\"Uninfected/\"+img_name)\n",
        "    image = Image.fromarray(image,'RGB')\n",
        "    image = image.resize((size,size))\n",
        "\n",
        "    dataset.append(np.array(image))\n",
        "    label.append(1)\n"
      ],
      "metadata": {
        "colab": {
          "base_uri": "https://localhost:8080/",
          "height": 49,
          "referenced_widgets": [
            "0605b9c384ee4f788c711c38ab39bc3a",
            "f3d0812b5fc8400b8d72a747c1e86060",
            "dbf9278a8a3d4746af97802efbcc470c",
            "cfbd28763d354c2e92a2d75bf405ef08",
            "61a74888e44f4eae9594fd73b7a03596",
            "2af7ff52f61942a985d73211c9df2d92",
            "d82227fdabe44739965929b5361dcefe",
            "104c919b5e534061b068ffbabd97dc78",
            "263631e9576b47c5ab3e27a1a067c74f",
            "b37fb61d2270458082be91c8ff035652",
            "bf3bf3804827406c9ddcda4d3db19705"
          ]
        },
        "id": "cXuWQtSzaE2c",
        "outputId": "870bf929-2b64-4eca-8aa8-23d163a06dda"
      },
      "execution_count": 37,
      "outputs": [
        {
          "output_type": "display_data",
          "data": {
            "text/plain": [
              "  0%|          | 0/2000 [00:00<?, ?it/s]"
            ],
            "application/vnd.jupyter.widget-view+json": {
              "version_major": 2,
              "version_minor": 0,
              "model_id": "0605b9c384ee4f788c711c38ab39bc3a"
            }
          },
          "metadata": {}
        }
      ]
    },
    {
      "cell_type": "code",
      "source": [
        "len(uninfected_img )"
      ],
      "metadata": {
        "colab": {
          "base_uri": "https://localhost:8080/"
        },
        "id": "Yz96fvQsaGGK",
        "outputId": "be344b8f-1afd-4bc4-8288-0930386a17b5"
      },
      "execution_count": 38,
      "outputs": [
        {
          "output_type": "execute_result",
          "data": {
            "text/plain": [
              "2000"
            ]
          },
          "metadata": {},
          "execution_count": 38
        }
      ]
    },
    {
      "cell_type": "code",
      "source": [
        "from sklearn.model_selection import train_test_split\n",
        "from keras.utils import to_categorical\n",
        "\n",
        "xtrain,xtest,ytrain,ytest = train_test_split(dataset,to_categorical(np.array(label)),test_size =.2,random_state =0)"
      ],
      "metadata": {
        "id": "ZTyvZg2Rdc1b"
      },
      "execution_count": 40,
      "outputs": []
    },
    {
      "cell_type": "markdown",
      "source": [
        "####CNN Model Archietecture"
      ],
      "metadata": {
        "id": "f3unWcsik-AI"
      }
    },
    {
      "cell_type": "code",
      "source": [
        "input_shape = (size,size,3)\n",
        "input  = k.Input(shape = input_shape)\n",
        "conv1 = k.Conv2D(32,kernel_size=(3,3),activation =\"relu\",padding = \"same\")(input)\n",
        "pool1 = k.MaxPool2D(pool_size =(2,2))(conv1)\n",
        "norm1 = k.BatchNormalization(axis = -1)(pool1)\n",
        "\n",
        "drop1 = k.Dropout(rate =.2)(norm1)\n",
        "\n",
        "conv2 = k.Conv2D(32,kernel_size=(3,3),activation =\"relu\",padding = \"same\")(input)\n",
        "pool2 = k.MaxPool2D(pool_size =(2,2))(conv1)\n",
        "norm2 = k.BatchNormalization(axis = -1)(pool1)\n",
        "\n",
        "drop2 = k.Dropout(rate =.2)(norm2)\n",
        "\n",
        "flat = k.Flatten()(drop2)\n",
        "\n",
        "hidden1 = k.Dense(512,activation=\"relu\")(flat)\n",
        "norm3 = k.BatchNormalization(axis =-1)(hidden1)\n",
        "drop3 = k.Dropout(rate = .2)(norm3)\n",
        "\n",
        "hidden2 = k.Dense(256,activation =\"relu\")(drop3)\n",
        "norm4 = k.BatchNormalization(axis =-1)(hidden2)\n",
        "drop4 = k.Dropout(rate =.2)(norm4)\n",
        "\n",
        "out = k.Dense(2,activation=\"sigmoid\")(drop4)\n"
      ],
      "metadata": {
        "id": "DwqWyxLOk0O2"
      },
      "execution_count": 41,
      "outputs": []
    },
    {
      "cell_type": "code",
      "source": [
        "model = keras.Model(inputs = input ,outputs = out)\n",
        "model.compile(optimizer = 'adam',loss ='categorical_crossentropy',metrics = ['accuracy'])\n",
        "\n",
        "print(model.summary())"
      ],
      "metadata": {
        "colab": {
          "base_uri": "https://localhost:8080/"
        },
        "id": "akrP_laxqdbj",
        "outputId": "265194ed-9ad9-4a93-a18d-76d67b3b440c"
      },
      "execution_count": 46,
      "outputs": [
        {
          "output_type": "stream",
          "name": "stdout",
          "text": [
            "Model: \"model_2\"\n",
            "_________________________________________________________________\n",
            " Layer (type)                Output Shape              Param #   \n",
            "=================================================================\n",
            " input_1 (InputLayer)        [(None, 64, 64, 3)]       0         \n",
            "                                                                 \n",
            " conv2d (Conv2D)             (None, 64, 64, 32)        896       \n",
            "                                                                 \n",
            " max_pooling2d (MaxPooling2  (None, 32, 32, 32)        0         \n",
            " D)                                                              \n",
            "                                                                 \n",
            " batch_normalization_1 (Bat  (None, 32, 32, 32)        128       \n",
            " chNormalization)                                                \n",
            "                                                                 \n",
            " dropout_1 (Dropout)         (None, 32, 32, 32)        0         \n",
            "                                                                 \n",
            " flatten (Flatten)           (None, 32768)             0         \n",
            "                                                                 \n",
            " dense (Dense)               (None, 512)               16777728  \n",
            "                                                                 \n",
            " batch_normalization_2 (Bat  (None, 512)               2048      \n",
            " chNormalization)                                                \n",
            "                                                                 \n",
            " dropout_2 (Dropout)         (None, 512)               0         \n",
            "                                                                 \n",
            " dense_1 (Dense)             (None, 256)               131328    \n",
            "                                                                 \n",
            " batch_normalization_3 (Bat  (None, 256)               1024      \n",
            " chNormalization)                                                \n",
            "                                                                 \n",
            " dropout_3 (Dropout)         (None, 256)               0         \n",
            "                                                                 \n",
            " dense_2 (Dense)             (None, 2)                 514       \n",
            "                                                                 \n",
            "=================================================================\n",
            "Total params: 16913666 (64.52 MB)\n",
            "Trainable params: 16912066 (64.51 MB)\n",
            "Non-trainable params: 1600 (6.25 KB)\n",
            "_________________________________________________________________\n",
            "None\n"
          ]
        }
      ]
    },
    {
      "cell_type": "code",
      "source": [
        "history = model.fit(np.array(xtrain),ytrain,batch_size=64,verbose = 1,epochs = 5,validation_split=.1)"
      ],
      "metadata": {
        "colab": {
          "base_uri": "https://localhost:8080/"
        },
        "id": "GoLjyQx9rBvX",
        "outputId": "27546298-cd33-49bd-efe1-4655ba10a438"
      },
      "execution_count": 47,
      "outputs": [
        {
          "output_type": "stream",
          "name": "stdout",
          "text": [
            "Epoch 1/5\n",
            "122/122 [==============================] - 79s 628ms/step - loss: 0.6429 - accuracy: 0.6985 - val_loss: 2.4941 - val_accuracy: 0.4683\n",
            "Epoch 2/5\n",
            "122/122 [==============================] - 74s 608ms/step - loss: 0.4470 - accuracy: 0.7802 - val_loss: 0.8331 - val_accuracy: 0.7970\n",
            "Epoch 3/5\n",
            "122/122 [==============================] - 74s 606ms/step - loss: 0.4276 - accuracy: 0.7903 - val_loss: 0.4641 - val_accuracy: 0.8005\n",
            "Epoch 4/5\n",
            "122/122 [==============================] - 76s 621ms/step - loss: 0.4046 - accuracy: 0.7976 - val_loss: 0.4815 - val_accuracy: 0.7924\n",
            "Epoch 5/5\n",
            "122/122 [==============================] - 74s 606ms/step - loss: 0.3884 - accuracy: 0.8032 - val_loss: 0.4499 - val_accuracy: 0.7751\n"
          ]
        }
      ]
    },
    {
      "cell_type": "code",
      "source": [
        "print(\"TEST_Accracy: {:.2f}%\".format(model.evaluate(np.array(xtest), np.array(ytest))[1]*100))\n"
      ],
      "metadata": {
        "colab": {
          "base_uri": "https://localhost:8080/"
        },
        "id": "UCxtWBR1sItC",
        "outputId": "81360e81-3c11-4ddd-efd4-aa737a2a932c"
      },
      "execution_count": 53,
      "outputs": [
        {
          "output_type": "stream",
          "name": "stdout",
          "text": [
            "68/68 [==============================] - 4s 54ms/step - loss: 0.4298 - accuracy: 0.7831\n",
            "TEST_Accracy: 78.31%\n"
          ]
        }
      ]
    },
    {
      "cell_type": "code",
      "source": [
        "f, (ax1,ax2) = plt.subplots(1,2,figsize=(12,4))\n",
        "t = f.suptitle('CNN Performnace', fontsize =12)\n",
        "f.subplots_adjust(top = 0.85,wspace =0.3)\n",
        "\n",
        "max_epoch = len(history.history['accuracy'])+1\n",
        "epoch_list = list(range(1,max_epoch))\n",
        "ax1.plot(epoch_list,history.history['accuracy'],label ='Train Accuracy')\n",
        "ax1.plot(epoch_list,history.history['val_accuracy'],label ='Validation Accuracy')\n",
        "ax1.set_xticks(np.arange(1,max_epoch,5))\n",
        "ax1.set_ylabel('Accuracy Value')\n",
        "ax1.set_xlabel('Epoch')\n",
        "ax1.set_title('Accuracy')\n",
        "l1 = ax1.legend(loc=\"best\")\n",
        "\n",
        "ax2.plot(epoch_list,history.history['loss'],label ='Train loss')\n",
        "ax2.plot(epoch_list,history.history['val_loss'],label ='Validation Loss')\n",
        "ax2.set_xticks(np.arange(1,max_epoch,5))\n",
        "ax2.set_ylabel('Loss Value')\n",
        "ax2.set_xlabel('Epoch')\n",
        "ax2.set_title('Loss')\n",
        "l2= ax2.legend(loc=\"best\")\n",
        "\n"
      ],
      "metadata": {
        "colab": {
          "base_uri": "https://localhost:8080/",
          "height": 273
        },
        "id": "M_C_cUCZuvko",
        "outputId": "de620410-864e-4c0b-e870-d8f6c35b7df7"
      },
      "execution_count": 55,
      "outputs": [
        {
          "output_type": "display_data",
          "data": {
            "text/plain": [
              "<Figure size 1200x400 with 2 Axes>"
            ],
            "image/png": "[encoded data removed]"
          },
          "metadata": {}
        }
      ]
    },
    {
      "cell_type": "code",
      "source": [],
      "metadata": {
        "id": "B-Dcx23Mxw5c"
      },
      "execution_count": null,
      "outputs": []
    }
  ]
}